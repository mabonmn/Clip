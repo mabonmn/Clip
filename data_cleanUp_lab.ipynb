{
  "nbformat": 4,
  "nbformat_minor": 0,
  "metadata": {
    "colab": {
      "name": "data_cleanUp_lab.ipynb",
      "provenance": [],
      "authorship_tag": "ABX9TyOKp3BV8CZj1MsVBnvBk9S3",
      "include_colab_link": true
    },
    "kernelspec": {
      "name": "python3",
      "display_name": "Python 3"
    },
    "language_info": {
      "name": "python"
    }
  },
  "cells": [
    {
      "cell_type": "markdown",
      "metadata": {
        "id": "view-in-github",
        "colab_type": "text"
      },
      "source": [
        "<a href=\"https://colab.research.google.com/github/mabonmn/Clip/blob/main/data_cleanUp_lab.ipynb\" target=\"_parent\"><img src=\"https://colab.research.google.com/assets/colab-badge.svg\" alt=\"Open In Colab\"/></a>"
      ]
    },
    {
      "cell_type": "code",
      "source": [
        "#use for names\n",
        "#http://www.randat.com/"
      ],
      "metadata": {
        "id": "EVpw0PN7Z6Zn"
      },
      "execution_count": null,
      "outputs": []
    },
    {
      "cell_type": "code",
      "execution_count": 8,
      "metadata": {
        "id": "L9OCBfEVYwPm"
      },
      "outputs": [],
      "source": [
        "import pandas as pd\n",
        "import numpy as np"
      ]
    },
    {
      "cell_type": "code",
      "source": [
        "data=pd.read_csv(\"20220729170737_5593.csv\")"
      ],
      "metadata": {
        "id": "gNbNkOtSZFvx"
      },
      "execution_count": 3,
      "outputs": []
    },
    {
      "cell_type": "code",
      "source": [
        "X1=data['First Name']\n",
        "X1_X1=data['Last Name']"
      ],
      "metadata": {
        "id": "m3jxERO2ZLCb"
      },
      "execution_count": 6,
      "outputs": []
    },
    {
      "cell_type": "code",
      "source": [
        "np.array(X1)"
      ],
      "metadata": {
        "colab": {
          "base_uri": "https://localhost:8080/"
        },
        "id": "6twIHdwzZMs6",
        "outputId": "cf53d904-e37a-4d28-de71-3725b6e2f651"
      },
      "execution_count": 9,
      "outputs": [
        {
          "output_type": "execute_result",
          "data": {
            "text/plain": [
              "array(['Andrew', 'Adelaide', 'Honey', 'Adele', 'Stella', 'Carina',\n",
              "       'Lucas', 'Victoria', 'Kellan', 'Kelsey', 'Adele', 'Bruce',\n",
              "       'Kellan', 'Lydia', 'Jared', 'Joyce', 'Richard', 'Ellia', 'Alberta',\n",
              "       'Roland', 'Sienna', 'Reid', 'Fiona', 'April', 'Byron', 'Lily',\n",
              "       'Lucy', 'Blake', 'James', 'Edith', 'Lucia', 'Albert', 'Derek',\n",
              "       'Max', 'Ryan', 'John', 'Antony', 'Julian', 'Walter', 'Belinda',\n",
              "       'Kimberly', 'Savana', 'Carlos', 'Adele', 'Clark', 'Alisa',\n",
              "       'Natalie', 'Patrick', 'Alina', 'Vanessa'], dtype=object)"
            ]
          },
          "metadata": {},
          "execution_count": 9
        }
      ]
    },
    {
      "cell_type": "code",
      "source": [
        "np.array(X1_X1)"
      ],
      "metadata": {
        "colab": {
          "base_uri": "https://localhost:8080/"
        },
        "id": "qkJXBtpjZUKj",
        "outputId": "9e5d26e2-475e-470d-afa0-6a18a9b2d928"
      },
      "execution_count": 10,
      "outputs": [
        {
          "output_type": "execute_result",
          "data": {
            "text/plain": [
              "array(['Smith', 'Barrett', 'Foster', 'Payne', 'Moore', 'Rogers',\n",
              "       'Douglas', 'Morrison', 'Barnes', 'Martin', 'Andrews', 'Myers',\n",
              "       'Murray', 'Thomas', 'Campbell', 'Kelley', 'Clark', 'Fowler',\n",
              "       'Thompson', 'Roberts', 'Farrell', 'Thomas', 'Taylor', 'Murphy',\n",
              "       'Hill', 'Grant', 'Murphy', 'Holmes', 'Harrison', 'Watson',\n",
              "       'Hawkins', 'Carroll', 'Nelson', 'Stewart', 'Crawford', 'West',\n",
              "       'Perry', 'Wilson', 'Ross', 'Reed', 'Carter', 'Kelly', 'Robinson',\n",
              "       'Cooper', 'Tucker', 'Clark', 'Stevens', 'Stevens', 'Johnson',\n",
              "       'Brown'], dtype=object)"
            ]
          },
          "metadata": {},
          "execution_count": 10
        }
      ]
    }
  ]
}