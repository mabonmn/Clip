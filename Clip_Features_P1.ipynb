{
  "cells": [
    {
      "cell_type": "markdown",
      "metadata": {
        "id": "view-in-github",
        "colab_type": "text"
      },
      "source": [
        "<a href=\"https://colab.research.google.com/github/mabonmn/Clip/blob/main/Clip_Features_P1.ipynb\" target=\"_parent\"><img src=\"https://colab.research.google.com/assets/colab-badge.svg\" alt=\"Open In Colab\"/></a>"
      ]
    },
    {
      "cell_type": "code",
      "source": [
        "!pip install git+https://github.com/openai/CLIP.git"
      ],
      "metadata": {
        "id": "SB3BL71nzCtS",
        "colab": {
          "base_uri": "https://localhost:8080/"
        },
        "outputId": "6815bfe0-ec79-4173-caaf-dae64140f199"
      },
      "id": "SB3BL71nzCtS",
      "execution_count": null,
      "outputs": [
        {
          "output_type": "stream",
          "name": "stdout",
          "text": [
            "Collecting git+https://github.com/openai/CLIP.git\n",
            "  Cloning https://github.com/openai/CLIP.git to /tmp/pip-req-build-n4_mwelx\n",
            "  Running command git clone -q https://github.com/openai/CLIP.git /tmp/pip-req-build-n4_mwelx\n",
            "Collecting ftfy\n",
            "  Downloading ftfy-6.1.1-py3-none-any.whl (53 kB)\n",
            "\u001b[K     |████████████████████████████████| 53 kB 415 kB/s \n",
            "\u001b[?25hRequirement already satisfied: regex in /usr/local/lib/python3.7/dist-packages (from clip==1.0) (2019.12.20)\n",
            "Requirement already satisfied: tqdm in /usr/local/lib/python3.7/dist-packages (from clip==1.0) (4.64.0)\n",
            "Requirement already satisfied: torch in /usr/local/lib/python3.7/dist-packages (from clip==1.0) (1.10.0+cu111)\n",
            "Requirement already satisfied: torchvision in /usr/local/lib/python3.7/dist-packages (from clip==1.0) (0.11.1+cu111)\n",
            "Requirement already satisfied: wcwidth>=0.2.5 in /usr/local/lib/python3.7/dist-packages (from ftfy->clip==1.0) (0.2.5)\n",
            "Requirement already satisfied: typing-extensions in /usr/local/lib/python3.7/dist-packages (from torch->clip==1.0) (4.1.1)\n",
            "Requirement already satisfied: pillow!=8.3.0,>=5.3.0 in /usr/local/lib/python3.7/dist-packages (from torchvision->clip==1.0) (7.1.2)\n",
            "Requirement already satisfied: numpy in /usr/local/lib/python3.7/dist-packages (from torchvision->clip==1.0) (1.21.5)\n",
            "Building wheels for collected packages: clip\n",
            "  Building wheel for clip (setup.py) ... \u001b[?25l\u001b[?25hdone\n",
            "  Created wheel for clip: filename=clip-1.0-py3-none-any.whl size=1369328 sha256=31e3fecabb390fb5abf6a01f20a7d1e6564ff889767f13e965936793ee8179bd\n",
            "  Stored in directory: /tmp/pip-ephem-wheel-cache-1l5a97z4/wheels/fd/b9/c3/5b4470e35ed76e174bff77c92f91da82098d5e35fd5bc8cdac\n",
            "Successfully built clip\n",
            "Installing collected packages: ftfy, clip\n",
            "Successfully installed clip-1.0 ftfy-6.1.1\n"
          ]
        }
      ]
    },
    {
      "cell_type": "code",
      "execution_count": null,
      "id": "5be456cd",
      "metadata": {
        "colab": {
          "base_uri": "https://localhost:8080/"
        },
        "id": "5be456cd",
        "outputId": "83f8e3e4-fdf7-4c8d-8bdb-19ebf138d3d6"
      },
      "outputs": [
        {
          "output_type": "stream",
          "name": "stdout",
          "text": [
            "Mounted at /content/drive\n"
          ]
        }
      ],
      "source": [
        "import torch\n",
        "import clip\n",
        "from PIL import Image\n",
        "import numpy as np\n",
        "import os\n",
        "import cv2\n",
        "import time\n",
        "import h5py\n",
        "from google.colab import drive\n",
        "drive.mount('/content/drive')"
      ]
    },
    {
      "cell_type": "code",
      "execution_count": null,
      "id": "391904d7",
      "metadata": {
        "id": "391904d7"
      },
      "outputs": [],
      "source": [
        "#constants\n",
        "video_path=\"/content/drive/MyDrive/Feature Extraction - Mabon/Clip_Features- P1/\"              #video address\n",
        "frame_path=\"/content/\"                                                                         #video frames address\n",
        "timeF=15                                                                                       #Video frame count interval frequency\n",
        "\n",
        "H5file_old=\"/content/drive/MyDrive/Feature Extraction - Mabon/Clip_Features- P1/eccv16_dataset_summe_google_pool5_old.h5\"\n",
        "\n",
        "video_num=1                                                                                     #enter the num to process videos you want,use 1 to check\n",
        "#we have formated the vidoes and loaded it correctly. \n",
        "#need to work on H5file. "
      ]
    },
    {
      "cell_type": "code",
      "execution_count": null,
      "id": "685e6860",
      "metadata": {
        "id": "685e6860",
        "colab": {
          "base_uri": "https://localhost:8080/"
        },
        "outputId": "4315fd3e-95cc-481d-b6fd-df5e0cfb8190"
      },
      "outputs": [
        {
          "output_type": "stream",
          "name": "stdout",
          "text": [
            " The directory 1 was created successfully\n"
          ]
        }
      ],
      "source": [
        "#Create a temporary storage frame\n",
        "for i in range(video_num):\n",
        "    isExists = os.path.exists(frame_path+str(i+1))\n",
        "    \n",
        "    if not isExists:\n",
        "        os.makedirs(frame_path+str(i+1))\n",
        "        print(\" The directory %s was created successfully\"%(i+1))\n",
        "    else:\n",
        "\n",
        "        continue\n"
      ]
    },
    {
      "cell_type": "code",
      "execution_count": null,
      "id": "3691a0d6",
      "metadata": {
        "colab": {
          "base_uri": "https://localhost:8080/"
        },
        "id": "3691a0d6",
        "outputId": "21d96b2f-1ca0-47cd-beba-93481ddb9ed0"
      },
      "outputs": [
        {
          "output_type": "stream",
          "name": "stdout",
          "text": [
            "video_1 open True\n"
          ]
        }
      ],
      "source": [
        "for i in range(video_num):\n",
        "    vc = cv2.VideoCapture(video_path + str(i+1)+'.mp4')\n",
        "    if vc.isOpened(): #whether to open normally\n",
        "        rval , frame = vc.read()\n",
        "    else:\n",
        "        rval = False\n",
        "    print('video_{0} open {1}'.format(i+1,rval)) \n",
        "    # Read video frames in loop\n",
        "    c=0#start\n",
        "    while rval:  \n",
        "        rval, frame = vc.read()\n",
        "        #print(\"Fram Number; \"+str(int(c / timeF)))\n",
        "        if (c % timeF == 0):  # Store operation every timeF frame\n",
        "            frames=frame_path+\"%s/\"%(i+1)\n",
        "            cv2.imwrite(\"%s/\"%frames+ str(int(c / timeF)) + '.png', frame)\n",
        "        \n",
        "        c = c + 1\n",
        "# what is causing this error? only single frame is loaded into the folder after vid no 15. \n",
        "#( TVSUM DATA SET ERROR) Hardware error\n",
        "#vid 20\n",
        "#vid 28\n",
        "#vid 50"
      ]
    },
    {
      "cell_type": "code",
      "execution_count": null,
      "id": "b219855f",
      "metadata": {
        "id": "b219855f"
      },
      "outputs": [],
      "source": [
        "def filecout(path):\n",
        "    all_files = os.listdir(path)\n",
        "    # COUNT\n",
        "    file_num = 0\n",
        "    for j in all_files:\n",
        "        file_num += 1\n",
        "    return file_num"
      ]
    },
    {
      "cell_type": "code",
      "execution_count": null,
      "id": "d043fac9",
      "metadata": {
        "colab": {
          "base_uri": "https://localhost:8080/"
        },
        "id": "d043fac9",
        "outputId": "2d7a5779-7107-46ce-81f9-54c015dee289"
      },
      "outputs": [
        {
          "output_type": "stream",
          "name": "stdout",
          "text": [
            "cpu\n"
          ]
        },
        {
          "output_type": "stream",
          "name": "stderr",
          "text": [
            "100%|████████████████████████████████████████| 244M/244M [00:02<00:00, 103MiB/s]\n"
          ]
        }
      ],
      "source": [
        "if torch.cuda.is_available():\n",
        "    device = \"cuda\" \n",
        "else:\n",
        "    device = \"cpu\" \n",
        "    print(\"cpu\")\n",
        "model, preprocess = clip.load(\"RN50\", device=device)"
      ]
    },
    {
      "cell_type": "code",
      "execution_count": null,
      "id": "305667cc",
      "metadata": {
        "scrolled": true,
        "colab": {
          "base_uri": "https://localhost:8080/"
        },
        "id": "305667cc",
        "outputId": "41b7ab98-f105-496d-98ab-7356c15ab213"
      },
      "outputs": [
        {
          "output_type": "stream",
          "name": "stdout",
          "text": [
            "correct shape\n",
            "[300]\n"
          ]
        }
      ],
      "source": [
        "#check the old features shape with new features\n",
        "shape = []\n",
        "for j in range(video_num):\n",
        "    f2 = h5py.File(H5file_old, 'r')     # open the file\n",
        "    data = f2[\"video_%s/features\"%(j+1)]\n",
        "    \n",
        "    frames=frame_path+\"%s/\"%(j+1)\n",
        "    frames_num=filecout(\"%s/\" %frames)\n",
        "    shape.append(data.shape[0])\n",
        "    if frames_num != data.shape[0]:\n",
        "        print(\"%s th folder need to correct \"%(j+1),end=\"\")\n",
        "        print(data.shape[0])\n",
        "\n",
        "print(\"correct shape\")\n",
        "print(shape)\n",
        "f2.close()\n",
        "#copy the last picture to run it "
      ]
    },
    {
      "cell_type": "code",
      "execution_count": null,
      "id": "0be97756",
      "metadata": {
        "colab": {
          "base_uri": "https://localhost:8080/"
        },
        "id": "0be97756",
        "outputId": "66783e16-13dd-416d-ad0d-0e01d7ad2c95"
      },
      "outputs": [
        {
          "output_type": "stream",
          "name": "stdout",
          "text": [
            "time：139.56616473197937 s\n"
          ]
        }
      ],
      "source": [
        "start=time.time()\n",
        "for j in range(video_num): \n",
        "    features = []\n",
        "    frames=frame_path+\"%s/\"%(j+1)\n",
        "    frames_num=filecout(\"%s/\" %frames)\n",
        "    for i in range(frames_num): #preprocess image to clip Format\n",
        "        image = preprocess(Image.open(frames+str(i)+'.png')).unsqueeze(0).to(device)\n",
        "        with torch.no_grad():#extract the features from encoder \n",
        "            a=model.encode_image(image).detach().cpu().numpy()\n",
        "            features.append(a)\n",
        "          \n",
        "    features = np.concatenate(features, axis=0)\n",
        "endtime=time.time()-start\n",
        "print(\"time：{} s\".format(endtime))"
      ]
    },
    {
      "cell_type": "code",
      "execution_count": null,
      "id": "330140e6",
      "metadata": {
        "colab": {
          "base_uri": "https://localhost:8080/"
        },
        "id": "330140e6",
        "outputId": "c55923fc-b21e-4594-c661-8af1d12ca4ee"
      },
      "outputs": [
        {
          "output_type": "execute_result",
          "data": {
            "text/plain": [
              "array([[-0.03819315, -0.02809658, -0.01071962, ...,  0.01487098,\n",
              "         0.0146119 , -0.01346372],\n",
              "       [-0.04658166, -0.02260109, -0.01168687, ...,  0.02008178,\n",
              "         0.01135532, -0.0102795 ],\n",
              "       [-0.04629778, -0.01651353, -0.00819843, ...,  0.01618402,\n",
              "         0.00958537, -0.00068036],\n",
              "       ...,\n",
              "       [-0.03901787, -0.01977705, -0.01006909, ...,  0.01298362,\n",
              "         0.01087531, -0.00507459],\n",
              "       [-0.03665117, -0.01902382, -0.00727616, ...,  0.01977888,\n",
              "         0.00616428, -0.00243039],\n",
              "       [-0.0448706 , -0.01539124, -0.01065195, ...,  0.02303245,\n",
              "         0.00900167, -0.00528508]], dtype=float32)"
            ]
          },
          "metadata": {},
          "execution_count": 10
        }
      ],
      "source": [
        "features"
      ]
    },
    {
      "cell_type": "markdown",
      "source": [
        "#Sample image"
      ],
      "metadata": {
        "id": "nFiMf97igZoQ"
      },
      "id": "nFiMf97igZoQ"
    },
    {
      "cell_type": "code",
      "source": [
        "print(clip.available_models())"
      ],
      "metadata": {
        "id": "iMwf3HjNg2eJ",
        "outputId": "915de99a-11dc-46ee-cce0-5afb4c75115f",
        "colab": {
          "base_uri": "https://localhost:8080/"
        }
      },
      "id": "iMwf3HjNg2eJ",
      "execution_count": null,
      "outputs": [
        {
          "output_type": "stream",
          "name": "stdout",
          "text": [
            "['RN50', 'RN101', 'RN50x4', 'RN50x16', 'RN50x64', 'ViT-B/32', 'ViT-B/16', 'ViT-L/14']\n"
          ]
        }
      ]
    },
    {
      "cell_type": "code",
      "source": [
        "image = preprocess(Image.open('test.jpg')).unsqueeze(0).to(device)\n",
        "feature_sample=model.encode_image(image).detach().cpu().numpy()"
      ],
      "metadata": {
        "id": "94hny2txCfor",
        "colab": {
          "base_uri": "https://localhost:8080/",
          "height": 304
        },
        "outputId": "b0664a10-2b75-4d88-d30c-de4ab8b6bc42"
      },
      "id": "94hny2txCfor",
      "execution_count": null,
      "outputs": [
        {
          "output_type": "error",
          "ename": "FileNotFoundError",
          "evalue": "ignored",
          "traceback": [
            "\u001b[0;31m---------------------------------------------------------------------------\u001b[0m",
            "\u001b[0;31mFileNotFoundError\u001b[0m                         Traceback (most recent call last)",
            "\u001b[0;32m<ipython-input-12-618b196a3fbb>\u001b[0m in \u001b[0;36m<module>\u001b[0;34m()\u001b[0m\n\u001b[0;32m----> 1\u001b[0;31m \u001b[0mimage\u001b[0m \u001b[0;34m=\u001b[0m \u001b[0mpreprocess\u001b[0m\u001b[0;34m(\u001b[0m\u001b[0mImage\u001b[0m\u001b[0;34m.\u001b[0m\u001b[0mopen\u001b[0m\u001b[0;34m(\u001b[0m\u001b[0;34m'test.jpg'\u001b[0m\u001b[0;34m)\u001b[0m\u001b[0;34m)\u001b[0m\u001b[0;34m.\u001b[0m\u001b[0munsqueeze\u001b[0m\u001b[0;34m(\u001b[0m\u001b[0;36m0\u001b[0m\u001b[0;34m)\u001b[0m\u001b[0;34m.\u001b[0m\u001b[0mto\u001b[0m\u001b[0;34m(\u001b[0m\u001b[0mdevice\u001b[0m\u001b[0;34m)\u001b[0m\u001b[0;34m\u001b[0m\u001b[0;34m\u001b[0m\u001b[0m\n\u001b[0m\u001b[1;32m      2\u001b[0m \u001b[0mfeature_sample\u001b[0m\u001b[0;34m=\u001b[0m\u001b[0mmodel\u001b[0m\u001b[0;34m.\u001b[0m\u001b[0mencode_image\u001b[0m\u001b[0;34m(\u001b[0m\u001b[0mimage\u001b[0m\u001b[0;34m)\u001b[0m\u001b[0;34m.\u001b[0m\u001b[0mdetach\u001b[0m\u001b[0;34m(\u001b[0m\u001b[0;34m)\u001b[0m\u001b[0;34m.\u001b[0m\u001b[0mcpu\u001b[0m\u001b[0;34m(\u001b[0m\u001b[0;34m)\u001b[0m\u001b[0;34m.\u001b[0m\u001b[0mnumpy\u001b[0m\u001b[0;34m(\u001b[0m\u001b[0;34m)\u001b[0m\u001b[0;34m\u001b[0m\u001b[0;34m\u001b[0m\u001b[0m\n",
            "\u001b[0;32m/usr/local/lib/python3.7/dist-packages/PIL/Image.py\u001b[0m in \u001b[0;36mopen\u001b[0;34m(fp, mode)\u001b[0m\n\u001b[1;32m   2841\u001b[0m \u001b[0;34m\u001b[0m\u001b[0m\n\u001b[1;32m   2842\u001b[0m     \u001b[0;32mif\u001b[0m \u001b[0mfilename\u001b[0m\u001b[0;34m:\u001b[0m\u001b[0;34m\u001b[0m\u001b[0;34m\u001b[0m\u001b[0m\n\u001b[0;32m-> 2843\u001b[0;31m         \u001b[0mfp\u001b[0m \u001b[0;34m=\u001b[0m \u001b[0mbuiltins\u001b[0m\u001b[0;34m.\u001b[0m\u001b[0mopen\u001b[0m\u001b[0;34m(\u001b[0m\u001b[0mfilename\u001b[0m\u001b[0;34m,\u001b[0m \u001b[0;34m\"rb\"\u001b[0m\u001b[0;34m)\u001b[0m\u001b[0;34m\u001b[0m\u001b[0;34m\u001b[0m\u001b[0m\n\u001b[0m\u001b[1;32m   2844\u001b[0m         \u001b[0mexclusive_fp\u001b[0m \u001b[0;34m=\u001b[0m \u001b[0;32mTrue\u001b[0m\u001b[0;34m\u001b[0m\u001b[0;34m\u001b[0m\u001b[0m\n\u001b[1;32m   2845\u001b[0m \u001b[0;34m\u001b[0m\u001b[0m\n",
            "\u001b[0;31mFileNotFoundError\u001b[0m: [Errno 2] No such file or directory: 'test.jpg'"
          ]
        }
      ]
    },
    {
      "cell_type": "code",
      "source": [
        "feature_sample.shape"
      ],
      "metadata": {
        "id": "QTo_0rDngpgY"
      },
      "id": "QTo_0rDngpgY",
      "execution_count": null,
      "outputs": []
    }
  ],
  "metadata": {
    "kernelspec": {
      "display_name": "Python 3 (ipykernel)",
      "language": "python",
      "name": "python3"
    },
    "language_info": {
      "codemirror_mode": {
        "name": "ipython",
        "version": 3
      },
      "file_extension": ".py",
      "mimetype": "text/x-python",
      "name": "python",
      "nbconvert_exporter": "python",
      "pygments_lexer": "ipython3",
      "version": "3.9.7"
    },
    "colab": {
      "name": "Clip_Features-P1.ipynb",
      "provenance": [],
      "collapsed_sections": [],
      "include_colab_link": true
    }
  },
  "nbformat": 4,
  "nbformat_minor": 5
}